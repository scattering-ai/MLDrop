{
  "nbformat": 4,
  "nbformat_minor": 0,
  "metadata": {
    "colab": {
      "provenance": []
    },
    "kernelspec": {
      "name": "python3",
      "display_name": "Python 3"
    },
    "language_info": {
      "name": "python"
    }
  },
  "cells": [
    {
      "cell_type": "markdown",
      "source": [
        "**Install MLDrop client**"
      ],
      "metadata": {
        "id": "tAvqA-9aiBPZ"
      }
    },
    {
      "cell_type": "code",
      "execution_count": null,
      "metadata": {
        "id": "2TVU-D-LFdFg"
      },
      "outputs": [],
      "source": [
        "pip install --upgrade mldrop_client"
      ]
    },
    {
      "cell_type": "code",
      "source": [
        "# Import mldrop\n",
        "import mldrop_client"
      ],
      "metadata": {
        "id": "iZJmI7vyFsaC"
      },
      "execution_count": null,
      "outputs": []
    },
    {
      "cell_type": "code",
      "source": [
        "# Init mldrop using your access token\n",
        "# You can get one by creating a FREE account in: https://api.scattering.ai/signup?utm_source=landing\n",
        "MLDROP_ACCESS_TOKEN = \"PUT_HERE_YOUR_ACCESS_TOKEN\"\n",
        "mldrop = mldrop_client.init(MLDROP_ACCESS_TOKEN)"
      ],
      "metadata": {
        "id": "l7KUDV5QFvzG"
      },
      "execution_count": null,
      "outputs": []
    },
    {
      "cell_type": "code",
      "source": [
        "# Deploy your PyTorch model to MLDrop\n",
        "import torch\n",
        "import typing\n",
        "\n",
        "# Your PyTorch model\n",
        "class MyModel(torch.nn.Module):\n",
        "    def __init__(self):\n",
        "        super().__init__()\n",
        "\n",
        "    def forward(self, a: torch.Tensor, b: torch.Tensor) -> torch.Tensor:\n",
        "        return a + b\n",
        "\n",
        "# Instantiate PyTorch model\n",
        "model = MyModel()\n",
        "\n",
        "\n",
        "# Define model metadata: name + inputs + outputs\n",
        "model_metadata = mldrop.create_model_metadata(\n",
        "    model_name=\"my_test_model\",\n",
        "    description=\"My test model - Add two numbers\",\n",
        "    inputs=[\n",
        "        mldrop.input_float(\"a\"),\n",
        "        mldrop.input_float(\"b\"),\n",
        "    ],\n",
        "    outputs=[\n",
        "        mldrop.output_float(\"result\"),\n",
        "    ],\n",
        "    sample_invocation=[\n",
        "        {\"a\": 3, \"b\": 5},\n",
        "    ]\n",
        ")\n",
        "\n",
        "# Deploy model\n",
        "model_id = mldrop.deploy_pytorch_model(model_metadata, model)"
      ],
      "metadata": {
        "id": "yQ2m4-xuHQSG"
      },
      "execution_count": null,
      "outputs": []
    },
    {
      "cell_type": "code",
      "source": [
        "# Invoke model\n",
        "samples = [\n",
        "    {\"a\": 3, \"b\": 5},\n",
        "    {\"a\": 7, \"b\": 2},\n",
        "]\n",
        "output = mldrop.invoke_model(model_id, samples)\n",
        "print(output)"
      ],
      "metadata": {
        "id": "MaNkkdIyF_sb"
      },
      "execution_count": null,
      "outputs": []
    }
  ]
}